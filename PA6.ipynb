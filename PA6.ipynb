{
 "cells": [
  {
   "cell_type": "markdown",
   "id": "56ffb9c8",
   "metadata": {},
   "source": [
    "## Hannah Melcher\n",
    "## CS-150-01\n",
    "## Version 1\n",
    "## PA6"
   ]
  },
  {
   "cell_type": "markdown",
   "id": "56f6205d",
   "metadata": {},
   "source": [
    "## Part A"
   ]
  },
  {
   "cell_type": "code",
   "execution_count": 3,
   "id": "59af8968",
   "metadata": {},
   "outputs": [
    {
     "name": "stdout",
     "output_type": "stream",
     "text": [
      "Enter first side: 10\n",
      "Enter second side: 15\n",
      "Enter third side: 10\n",
      "The area of the triangle is:  49.61\n",
      "The perimeter of the triangle is 35\n"
     ]
    }
   ],
   "source": [
    "# Area of traingle\n",
    "import math\n",
    "a=int(input(\"Enter first side: \"))\n",
    "b=int(input(\"Enter second side: \"))\n",
    "c=int(input(\"Enter third side: \"))\n",
    "s=(a+b+c)/2\n",
    "area=math.sqrt(s*(s-a)*(s-b)*(s-c))\n",
    "print(\"The area of the triangle is: \",round(area,2))\n",
    "\n",
    "#Perimeter of triangle\n",
    "p = a+b+c\n",
    "print(\"The perimeter of the triangle is\", p)"
   ]
  },
  {
   "cell_type": "markdown",
   "id": "f1f8f15b",
   "metadata": {},
   "source": [
    "## Part B"
   ]
  },
  {
   "cell_type": "code",
   "execution_count": 2,
   "id": "afbad287",
   "metadata": {},
   "outputs": [
    {
     "name": "stdout",
     "output_type": "stream",
     "text": [
      "Guess a number between 1 to 1000: 500\n",
      "Too high! Guess again.\n",
      "Guess a number between 1 to 1000: 300\n",
      "Too high! Guess again.\n",
      "Guess a number between 1 to 1000: 400\n",
      "Too high! Guess again.\n",
      "Guess a number between 1 to 1000: 200\n",
      "Too low! Guess again.\n",
      "Guess a number between 1 to 1000: 250\n",
      "Too high! Guess again.\n",
      "Guess a number between 1 to 1000: 240\n",
      "Too high! Guess again.\n",
      "Guess a number between 1 to 1000: 230\n",
      "Too high! Guess again.\n",
      "Guess a number between 1 to 1000: 220\n",
      "Too high! Guess again.\n",
      "Guess a number between 1 to 1000: 210\n",
      "Too high! Guess again.\n",
      "Guess a number between 1 to 1000: 200\n",
      "Too low! Guess again.\n",
      "Guess a number between 1 to 1000: 205\n",
      "Too low! Guess again.\n",
      "Guess a number between 1 to 1000: 206\n",
      "Too low! Guess again.\n",
      "Guess a number between 1 to 1000: 207\n",
      "You have guessed the number correctly\n"
     ]
    }
   ],
   "source": [
    "import random\n",
    "number=random.randint(1,1000)    \n",
    "entered_number=None\n",
    "\n",
    "while entered_number!=number:\n",
    "    entered_number=int(input(\"Guess a number between 1 to 1000: \"))\n",
    "    if entered_number==number:\n",
    "        print(f\"You have guessed the number correctly\")\n",
    "    elif entered_number>number:\n",
    "        print(f\"Too high! Guess again.\")\n",
    "    else:\n",
    "        print(\"Too low! Guess again.\")"
   ]
  },
  {
   "cell_type": "markdown",
   "id": "9c241018",
   "metadata": {},
   "source": [
    "## Part C"
   ]
  },
  {
   "cell_type": "code",
   "execution_count": 1,
   "id": "ddbcb553",
   "metadata": {},
   "outputs": [
    {
     "name": "stdout",
     "output_type": "stream",
     "text": [
      "The mean temperature over 6 days is 80.0 degrees Fahrenheit.\n"
     ]
    }
   ],
   "source": [
    "def meanTemp(*temps):\n",
    "    mean = sum(temps) / len(temps)\n",
    "    days = len(temps)\n",
    "    print(f\"The mean temperature over {days} days is {mean} degrees Fahrenheit.\")\n",
    "\n",
    "meanTemp(78, 82, 76, 84, 79, 81)"
   ]
  }
 ],
 "metadata": {
  "kernelspec": {
   "display_name": "Python 3 (ipykernel)",
   "language": "python",
   "name": "python3"
  },
  "language_info": {
   "codemirror_mode": {
    "name": "ipython",
    "version": 3
   },
   "file_extension": ".py",
   "mimetype": "text/x-python",
   "name": "python",
   "nbconvert_exporter": "python",
   "pygments_lexer": "ipython3",
   "version": "3.9.13"
  }
 },
 "nbformat": 4,
 "nbformat_minor": 5
}
